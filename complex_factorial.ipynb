{
 "cells": [
  {
   "cell_type": "code",
   "execution_count": 1,
   "metadata": {},
   "outputs": [
    {
     "name": "stdout",
     "output_type": "stream",
     "text": [
      "(-0.15494982830181073-0.49801566811835685j)\n"
     ]
    }
   ],
   "source": [
    "\"\"\"complex_factorial.ipynb\"\"\"\n",
    "\n",
    "# Cell 1\n",
    "# For this code, cell 1 should calculate 𝑖! using Euler's Gamma Function\n",
    "# Code was aided by: https://docs.scipy.org/doc/scipy/reference/generated/scipy.special.gamma.html#scipy.special.gamma\n",
    "\n",
    "from scipy.special import gamma  # type: ignore\n",
    "\n",
    "# i is defined as a complex number with only an imaginary component \n",
    "i: complex = complex(0, 1)  \n",
    "# Calculate the factorial using euler's gamma function provided by scipy.special \n",
    "    # i+1 to calculate the factorial\n",
    "factorial_i: complex = gamma(i+1)  \n",
    "\n",
    "print(f\"{factorial_i}\")"
   ]
  }
 ],
 "metadata": {
  "kernelspec": {
   "display_name": "Python 3",
   "language": "python",
   "name": "python3"
  },
  "language_info": {
   "codemirror_mode": {
    "name": "ipython",
    "version": 3
   },
   "file_extension": ".py",
   "mimetype": "text/x-python",
   "name": "python",
   "nbconvert_exporter": "python",
   "pygments_lexer": "ipython3",
   "version": "3.9.16"
  },
  "orig_nbformat": 4
 },
 "nbformat": 4,
 "nbformat_minor": 2
}
