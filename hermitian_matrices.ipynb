{
 "cells": [
  {
   "cell_type": "code",
   "execution_count": 12,
   "id": "a114f0a9-a0bf-4004-ba16-c135403f320e",
   "metadata": {
    "tags": []
   },
   "outputs": [
    {
     "data": {
      "text/latex": [
       "$\\displaystyle \\mathbf{A}=\\begin{bmatrix}5 &4 + 5i &6-16i\\\\4-5i &13 &7\\\\6 + 16i &7 &2.1\\\\\\end{bmatrix}$"
      ],
      "text/plain": [
       "<IPython.core.display.Math object>"
      ]
     },
     "metadata": {},
     "output_type": "display_data"
    },
    {
     "data": {
      "text/latex": [
       "$\\displaystyle \\mathbf{A^{-1}}=\\begin{bmatrix}0.00454 &-0.00704 + 0.02566i &0.01047-0.05089i\\\\-0.00704-0.02566i &0.05896 &0.01906 + 0.01969i\\\\0.01047 + 0.05089i &0.01906-0.01969i &-0.00503\\\\\\end{bmatrix}$"
      ],
      "text/plain": [
       "<IPython.core.display.Math object>"
      ]
     },
     "metadata": {},
     "output_type": "display_data"
    },
    {
     "data": {
      "text/latex": [
       "$\\displaystyle \\mathbf{(A^{-1})^\\dagger}=\\begin{bmatrix}0.00454 &-0.00704 + 0.02566i &0.01047-0.05089i\\\\-0.00704-0.02566i &0.05896 &0.01906 + 0.01969i\\\\0.01047 + 0.05089i &0.01906-0.01969i &-0.00503\\\\\\end{bmatrix}$"
      ],
      "text/plain": [
       "<IPython.core.display.Math object>"
      ]
     },
     "metadata": {},
     "output_type": "display_data"
    },
    {
     "data": {
      "text/latex": [
       "$\\displaystyle \\mathbf{A^-1=A^-1^\\dagger}\\;?\\;\\rightarrow\\;True$"
      ],
      "text/plain": [
       "<IPython.core.display.Math object>"
      ]
     },
     "metadata": {},
     "output_type": "display_data"
    }
   ],
   "source": [
    "\"\"\"hermitian_matrices.ipynb\"\"\"\n",
    "\n",
    "# Code is modified from that given by Dr. David Biersach in hermitian_matrices.ipynb and complex_matrices.ipynb.\n",
    "\n",
    "# Cell 1 - The inverse of a Hermitian matrix is also Hermitian\n",
    "\n",
    "\n",
    "# Allows for type hints\n",
    "from __future__ import annotations\n",
    "\n",
    "# allows for type hints\n",
    "import typing\n",
    "\n",
    "# Used for calculations\n",
    "import numpy as np\n",
    "\n",
    "# Used for latex displays\n",
    "from IPython.core.display import Math\n",
    "\n",
    "if typing.TYPE_CHECKING:\n",
    "    # Used for vectorized operations\n",
    "    from numpy.typing import NDArray\n",
    "\n",
    "\n",
    "def display_array(\n",
    "    a: NDArray[np.complex_], places: int = 5, column: bool = False, prefix: str = \"\"\n",
    ") -> None:\n",
    "    \"\"\"Display array a in matrix form\"\"\"\n",
    "\n",
    "    # a is an array of complex numbers\n",
    "    def strip(val: float) -> str:\n",
    "        \"\"\"Return a string representation of a number with the extra zeros removed\"\"\"\n",
    "        # Format string to format the real and imaginary numbers\n",
    "        frmt: str = \":.\" + str(places) + \"f\"\n",
    "        # format the value based on the format string\n",
    "        d: str = str(\"{v\" + frmt + \"}\").format(v=val)\n",
    "        # Until the last character of d is 0\n",
    "        while d[-1] == \"0\":\n",
    "            # remove the last character of d\n",
    "            d = d[:-1]\n",
    "        # check if the last character is a decimal point\n",
    "        if d[-1] == \".\":\n",
    "            d = d[:-1]\n",
    "        # check if d=0\n",
    "        if float(d) == 0:\n",
    "            d = \"0\"\n",
    "        return d\n",
    "\n",
    "    # create a copy of a and assign it to m\n",
    "    m: NDArray[np.complex_] = np.copy(a)\n",
    "    # if m is a 1d array\n",
    "    if len(m.shape) == 1:\n",
    "        # bump m to a 2d array\n",
    "        m = m[np.newaxis, :]\n",
    "        # if the column flag is set to true\n",
    "        if column:\n",
    "            m = m.T\n",
    "    prec: float = 1 / 10**places\n",
    "    # initializes the string with latex code\n",
    "    s: str = r\"\\begin{bmatrix}\"\n",
    "    # iterate the loop over the rows and columns of m\n",
    "    for row in range(m.shape[0]):\n",
    "        for col in range(m.shape[1]):\n",
    "            # retrieve complex number and assign it to v\n",
    "            v: np.complex_ = m[row, col]\n",
    "            # extract the real component of v\n",
    "            real_comp: float = float(np.real(v))\n",
    "            # extract imag component\n",
    "            imag_comp: float = float(np.imag(v))\n",
    "            # check if the imaginary component is negative\n",
    "            is_imag_neg: bool = imag_comp < 0\n",
    "            # check if real or imaginary is o or if imaginary is one\n",
    "            is_real_zero: bool = bool(np.isclose(real_comp, 0, atol=prec))\n",
    "            is_imag_zero: bool = bool(np.isclose(imag_comp, 0, atol=prec))\n",
    "            is_imag_one: bool = bool(np.isclose(abs(imag_comp), 1, atol=prec))\n",
    "            if is_real_zero:\n",
    "                if is_imag_zero:\n",
    "                    # append 0 to the string\n",
    "                    s += \"0\"\n",
    "            else:\n",
    "                # append formatted string of the real component to s\n",
    "                s += strip(real_comp)\n",
    "            if not is_imag_zero:\n",
    "                if is_imag_one:\n",
    "                    if is_imag_neg:\n",
    "                        s += r\"-i\"\n",
    "                    else:\n",
    "                        if not is_real_zero:\n",
    "                            s += \"+\"\n",
    "                        # append lateix code for -i to s string\n",
    "                        s += r\"i\"\n",
    "                else:\n",
    "                    # if the real component is not close to 0\n",
    "                    if not is_real_zero and not is_imag_neg:\n",
    "                        # append a space to s\n",
    "                        s += \" + \"\n",
    "                    # append i to s\n",
    "                    s += strip(imag_comp) + \"i\"\n",
    "            # check if the current column is not the last collumn\n",
    "            if col < m.shape[1] - 1:\n",
    "                s += \" &\"\n",
    "        # break string to start a new row\n",
    "        s += r\"\\\\\"\n",
    "    # define the end of the matrix\n",
    "    s += r\"\\end{bmatrix}\"\n",
    "    # display the prefix and the formatted matrix s\n",
    "    display(Math(prefix + s))\n",
    "\n",
    "\n",
    "# Define the Hermitian matrix A\n",
    "a: NDArray[np.complex_] = np.array(\n",
    "    [[5, 4 + 5j, 6 - 16j], [4 - 5j, 13, 7], [6 + 16j, 7, 2.1]], dtype=np.complex_\n",
    ")\n",
    "# Display matrix A using latex and the helper display function above\n",
    "# use bf to generate bold font\n",
    "display_array(a, prefix=r\"\\mathbf{A}=\")\n",
    "# Define t1 as a complex array equal to the inverse of a using built in numpy function\n",
    "inverse_a: NDArray[np.complex_] = np.linalg.inv(a)\n",
    "# Display the inverse\n",
    "display_array(inverse_a, prefix=r\"\\mathbf{A^{-1}}=\")\n",
    "# Take the conjugate of a and then transpose to get the dagger\n",
    "adjoint_a: NDArray[np.complex_] = inverse_a.conj().T\n",
    "# Display the adjoint using latex dagger symbol\n",
    "display_array(adjoint_a, prefix=r\"\\mathbf{(A^{-1})^\\dagger}=\")\n",
    "\n",
    "# A matrix is Hermitian if it is equal to its own dagger\n",
    "# if you want to compare every element to every element in another matrix -> use np.is close and .all() at the end\n",
    "# Use np.close for round off error\n",
    "# Print the statement using latex dagger and arrow function\n",
    "\n",
    "display(\n",
    "    Math(\n",
    "        (\n",
    "            rf\"\\mathbf{{A^{-1}=A^{-1}^\\dagger}}\"\n",
    "            rf\"\\;?\\;\\rightarrow\\;{np.isclose(inverse_a,adjoint_a).all()}\"\n",
    "        )\n",
    "    )\n",
    ")"
   ]
  },
  {
   "cell_type": "code",
   "execution_count": 14,
   "id": "ccf20f1b-fb7f-4246-b58c-dd7a01965f03",
   "metadata": {
    "tags": []
   },
   "outputs": [
    {
     "data": {
      "text/latex": [
       "$\\displaystyle \\mathbf{A^{3}}=\\begin{bmatrix}3817.2 &3408.2 + 953.8i &3094.26-6047.06i\\\\3408.2-953.8i &4060.9 &2953.37-1889.4i\\\\3094.26 + 6047.06i &2953.37 + 1889.4i &2754.461\\\\\\end{bmatrix}$"
      ],
      "text/plain": [
       "<IPython.core.display.Math object>"
      ]
     },
     "metadata": {},
     "output_type": "display_data"
    },
    {
     "data": {
      "text/latex": [
       "$\\displaystyle \\mathbf{{A^{3}}^\\dagger}=\\begin{bmatrix}3817.2 &3408.2 + 953.8i &3094.26-6047.06i\\\\3408.2-953.8i &4060.9 &2953.37-1889.4i\\\\3094.26 + 6047.06i &2953.37 + 1889.4i &2754.461\\\\\\end{bmatrix}$"
      ],
      "text/plain": [
       "<IPython.core.display.Math object>"
      ]
     },
     "metadata": {},
     "output_type": "display_data"
    },
    {
     "data": {
      "text/latex": [
       "$\\displaystyle \\mathbf{A^{3}}=\\mathbf{{A^{3}}^\\dagger}\\;?\\;\\rightarrow\\;True$"
      ],
      "text/plain": [
       "<IPython.core.display.Math object>"
      ]
     },
     "metadata": {},
     "output_type": "display_data"
    }
   ],
   "source": [
    "# Cell 2 - A Hermitian matrix raised to an integer\n",
    "#          exponent yields another Hermitian matrix\n",
    "\n",
    "# Use Hermitian matrix A from above and the display function\n",
    "\n",
    "# original matrx raised up to the 100th power using built in numpy function\n",
    "raised_a: NDArray[np.complex_] = np.linalg.matrix_power(a, 3)\n",
    "# Display the raised Hermitian matrix using latex\n",
    "display_array(raised_a, prefix=r\"\\mathbf{A^{3}}=\")\n",
    "# Take the conjugate of a and then transpose to get the dagger\n",
    "raised_adjoint_a: NDArray[np.complex_] = raised_a.conj().T\n",
    "# Display the adjoint using latex dagger symbol\n",
    "display_array(raised_adjoint_a, prefix=r\"\\mathbf{{A^{3}}^\\dagger}=\")\n",
    "# A matrix is Hermitian if it is equal to its own dagger\n",
    "\n",
    "display(\n",
    "    Math(\n",
    "        (\n",
    "            r\"\\mathbf{A^{3}}=\"\n",
    "            r\"\\mathbf{{A^{3}}^\\dagger}\"\n",
    "            rf\"\\;?\\;\\rightarrow\\;{np.isclose(raised_a,raised_adjoint_a).all()}\"\n",
    "        )\n",
    "    )\n",
    ")"
   ]
  }
 ],
 "metadata": {
  "kernelspec": {
   "display_name": "Python 3 (ipykernel)",
   "language": "python",
   "name": "python3"
  },
  "language_info": {
   "codemirror_mode": {
    "name": "ipython",
    "version": 3
   },
   "file_extension": ".py",
   "mimetype": "text/x-python",
   "name": "python",
   "nbconvert_exporter": "python",
   "pygments_lexer": "ipython3",
   "version": "3.9.16"
  }
 },
 "nbformat": 4,
 "nbformat_minor": 5
}
