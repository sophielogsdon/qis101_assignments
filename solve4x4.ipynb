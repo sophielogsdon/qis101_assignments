{
 "cells": [
  {
   "cell_type": "code",
   "execution_count": 1,
   "id": "c4039191-bcff-4b01-93cb-f85f6f6e8995",
   "metadata": {
    "tags": []
   },
   "outputs": [
    {
     "data": {
      "text/latex": [
       "$\\displaystyle \\mathbf{Coeffs}=\\begin{bmatrix}1 &2 &1 &-1\\\\3 &2 &4 &4\\\\4 &4 &3 &4\\\\2 &0 &1 &5\\\\\\end{bmatrix}$"
      ],
      "text/plain": [
       "<IPython.core.display.Math object>"
      ]
     },
     "metadata": {},
     "output_type": "display_data"
    },
    {
     "data": {
      "text/latex": [
       "$\\displaystyle \\mathbf{Vals}=\\begin{bmatrix}5 &16 &22 &15\\\\\\end{bmatrix}$"
      ],
      "text/plain": [
       "<IPython.core.display.Math object>"
      ]
     },
     "metadata": {},
     "output_type": "display_data"
    },
    {
     "data": {
      "text/latex": [
       "$\\displaystyle \\mathbf{Solution}=\\begin{bmatrix}16\\\\-6\\\\-2\\\\-3\\\\\\end{bmatrix}$"
      ],
      "text/plain": [
       "<IPython.core.display.Math object>"
      ]
     },
     "metadata": {},
     "output_type": "display_data"
    }
   ],
   "source": [
    "\"\"\"solve4x4.ipynb\"\"\"\n",
    "\n",
    "# Code is modified from that given by Dr. David Biersach in solve4x4.ipynb and matrix_algebra.ipynb.\n",
    "\n",
    "# Cell 1 solves a 4x4 system of linear equations.\n",
    "\n",
    "# Allows for type hints\n",
    "from __future__ import annotations\n",
    "\n",
    "# allows for type hints\n",
    "import typing\n",
    "\n",
    "# Used for calculations\n",
    "import numpy as np\n",
    "\n",
    "# Used for latex displays\n",
    "from IPython.core.display import Math\n",
    "\n",
    "if typing.TYPE_CHECKING:\n",
    "    # Used for vectorized operations\n",
    "    from numpy.typing import NDArray\n",
    "\n",
    "\n",
    "def display_array(\n",
    "    a: NDArray[np.complex_], places: int = 5, column: bool = False, prefix: str = \"\"\n",
    ") -> None:\n",
    "    \"\"\"Display array a in matrix form\"\"\"\n",
    "\n",
    "    # a is an array of complex numbers\n",
    "    def strip(val: float) -> str:\n",
    "        \"\"\"Return a string representation of a number with the extra zeros removed\"\"\"\n",
    "        # Format string to format the real and imaginary numbers\n",
    "        frmt: str = \":.\" + str(places) + \"f\"\n",
    "        # format the value based on the format string\n",
    "        d: str = str(\"{v\" + frmt + \"}\").format(v=val)\n",
    "        # Until the last character of d is 0\n",
    "        while d[-1] == \"0\":\n",
    "            # remove the last character of d\n",
    "            d = d[:-1]\n",
    "        # check if the last character is a decimal point\n",
    "        if d[-1] == \".\":\n",
    "            d = d[:-1]\n",
    "        # check if d=0\n",
    "        if float(d) == 0:\n",
    "            d = \"0\"\n",
    "        return d\n",
    "\n",
    "    # create a copy of a and assign it to m\n",
    "    m: NDArray[np.complex_] = np.copy(a)\n",
    "    # if m is a 1d array\n",
    "    if len(m.shape) == 1:\n",
    "        # bump m to a 2d array\n",
    "        m = m[np.newaxis, :]\n",
    "        # if the column flag is set to true\n",
    "        if column:\n",
    "            m = m.T\n",
    "    prec: float = 1 / 10**places\n",
    "    # initializes the string with latex code\n",
    "    s: str = r\"\\begin{bmatrix}\"\n",
    "    # iterate the loop over the rows and columns of m\n",
    "    for row in range(m.shape[0]):\n",
    "        for col in range(m.shape[1]):\n",
    "            # retrieve complex number and assign it to v\n",
    "            v: np.complex_ = m[row, col]\n",
    "            # extract the real component of v\n",
    "            real_comp: float = float(np.real(v))\n",
    "            # extract imag component\n",
    "            imag_comp: float = float(np.imag(v))\n",
    "            # check if the imaginary component is negative\n",
    "            is_imag_neg: bool = imag_comp < 0\n",
    "            # check if real or imaginary is o or if imaginary is one\n",
    "            is_real_zero: bool = bool(np.isclose(real_comp, 0, atol=prec))\n",
    "            is_imag_zero: bool = bool(np.isclose(imag_comp, 0, atol=prec))\n",
    "            is_imag_one: bool = bool(np.isclose(abs(imag_comp), 1, atol=prec))\n",
    "            if is_real_zero:\n",
    "                if is_imag_zero:\n",
    "                    # append 0 to the string\n",
    "                    s += \"0\"\n",
    "            else:\n",
    "                # append formatted string of the real component to s\n",
    "                s += strip(real_comp)\n",
    "            if not is_imag_zero:\n",
    "                if is_imag_one:\n",
    "                    if is_imag_neg:\n",
    "                        s += r\"-i\"\n",
    "                    else:\n",
    "                        if not is_real_zero:\n",
    "                            s += \"+\"\n",
    "                        # append lateix code for -i to s string\n",
    "                        s += r\"i\"\n",
    "                else:\n",
    "                    # if the real component is not close to 0\n",
    "                    if not is_real_zero and not is_imag_neg:\n",
    "                        # append a space to s\n",
    "                        s += \" + \"\n",
    "                    # append i to s\n",
    "                    s += strip(imag_comp) + \"i\"\n",
    "            # check if the current column is not the last collumn\n",
    "            if col < m.shape[1] - 1:\n",
    "                s += \" &\"\n",
    "        # break string to start a new row\n",
    "        s += r\"\\\\\"\n",
    "    # define the end of the matrix\n",
    "    s += r\"\\end{bmatrix}\"\n",
    "    # display the prefix and the formatted matrix s\n",
    "    display(Math(prefix + s))\n",
    "\n",
    "\n",
    "# create a coefficient matrix 4x4\n",
    "# 4 equations and 4 unknowns-> pass the nested list into a numpy array to create an np.array\n",
    "\n",
    "coeffs: NDArray[np.complex_] = np.array(\n",
    "    [[1, 2, 1, -1], [3, 2, 4, 4], [4, 4, 3, 4], [2, 0, 1, 5]]\n",
    ")\n",
    "# values on the right hand side, 1d array\n",
    "vals: NDArray[np.complex_] = np.array([5, 16, 22, 15])\n",
    "\n",
    "# Print out the coefficient matrix and the values using latex\n",
    "display_array(coeffs, prefix=r\"\\mathbf{Coeffs}=\")\n",
    "display_array(vals, prefix=r\"\\mathbf{Vals}=\")\n",
    "\n",
    "# Use numpy's linear algebra solver\n",
    "# np.linalg.solve -> pass in coefficient matrix and right hand side value vector\n",
    "sol: NDArray[np.complex_] = np.linalg.solve(coeffs, vals)\n",
    "\n",
    "# column= true\n",
    "# normally will display vectors as a horizontal row, but the more common definition of a vector is a vertical column vector\n",
    "\n",
    "display_array(sol, prefix=r\"\\mathbf{Solution}=\", column=True)"
   ]
  }
 ],
 "metadata": {
  "kernelspec": {
   "display_name": "Python 3 (ipykernel)",
   "language": "python",
   "name": "python3"
  },
  "language_info": {
   "codemirror_mode": {
    "name": "ipython",
    "version": 3
   },
   "file_extension": ".py",
   "mimetype": "text/x-python",
   "name": "python",
   "nbconvert_exporter": "python",
   "pygments_lexer": "ipython3",
   "version": "3.9.16"
  }
 },
 "nbformat": 4,
 "nbformat_minor": 5
}
