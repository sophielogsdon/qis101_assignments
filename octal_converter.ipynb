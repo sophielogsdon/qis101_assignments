{
 "cells": [
  {
   "cell_type": "code",
   "execution_count": 4,
   "metadata": {},
   "outputs": [
    {
     "name": "stdout",
     "output_type": "stream",
     "text": [
      "2323 in octal = 1235 in decimal\n"
     ]
    }
   ],
   "source": [
    "\"\"\"octal_converter.ipynb\"\"\"\n",
    "# This code generates conversions between octal and decimal both manually and using built in functions.\n",
    "\n",
    "# Code is modified from that given by Dr. David Biersach in base_conversion.ipynb.\n",
    "# Code is aided by: https://www.youtube.com/watch?v=YCM2JReWS10 and https://www.youtube.com/watch?v=ayul1fmZd0Y\n",
    "# Answers checked with: https://www.rapidtables.com/convert/number/octal-to-decimal.html\n",
    "\n",
    "# Cell 1 -> converts the octal number 2323 to base 10 (decimal) by looping and displays both numbers\n",
    "\n",
    "import numpy as np\n",
    "\n",
    "\n",
    "def octal_to_decimal(octal_num: str) -> int:\n",
    "    \"\"\"Converts a given string of octal numbers into a decimal integer\"\"\"\n",
    "    # Reverse string 'octal_num' because the LSB must be in first position\n",
    "    # reverse slicing syntax-[::-1]-> step of -1\n",
    "    octal_num = octal_num[::-1]\n",
    "    # initialize an accumulator of 0\n",
    "    sum = 0\n",
    "    # go from 0 to the length of the string\n",
    "    for position in range(len(octal_num)):\n",
    "        # weight= base raised to the position #\n",
    "        weight: int = pow(8, position)\n",
    "        # get the character at that position in string octal_num\n",
    "        # convert to a number\n",
    "        digit = int(octal_num[position])\n",
    "        # sum= digit *its weight\n",
    "        # accumulating sum\n",
    "        sum += digit * weight\n",
    "    # once for loop gets to the last position, returns sum\n",
    "    return sum\n",
    "\n",
    "\n",
    "# Declare octal as a string\n",
    "octal_num: str = \"2323\"\n",
    "# Pass the string into the helper function\n",
    "decimal_num: int = octal_to_decimal(octal_num)\n",
    "# Return integer in decimal and print\n",
    "print(f\"{octal_num} in octal = {decimal_num} in decimal\")"
   ]
  },
  {
   "cell_type": "code",
   "execution_count": 6,
   "metadata": {},
   "outputs": [
    {
     "name": "stdout",
     "output_type": "stream",
     "text": [
      "1,235 in decimal = 2323 in octal\n"
     ]
    }
   ],
   "source": [
    "# Cell 2 -> converts the decimal number calculated in cell 1 back to octal by looping and displays both numbers\n",
    "\n",
    "\n",
    "def decimal_to_octal(d: int) -> str:\n",
    "    \"\"\"Convert a given decimal integer into an octal number\"\"\"\n",
    "    octal_num: str = \"\"\n",
    "    # start with number in decimal\n",
    "    # when d hits 0, we're done\n",
    "    while d > 0:\n",
    "        # Take the mod of d and the base number, append that to the octal_num string.\n",
    "        octal_num += str(d % 8)\n",
    "        # Take the floor of d and the base number -> that becomes the new d\n",
    "        d = int(d / 8)\n",
    "    # Read the string in reverse order\n",
    "    octal_num = octal_num[::-1]\n",
    "    # Return the string\n",
    "    return octal_num\n",
    "\n",
    "\n",
    "# Define d based on the results of cell 1\n",
    "decimal_num: int = 1235\n",
    "# Call the helper function and print\n",
    "octal_num: str = decimal_to_octal(decimal_num)\n",
    "print(f\"{decimal_num:,} in decimal = {octal_num} in octal\")"
   ]
  },
  {
   "cell_type": "code",
   "execution_count": 8,
   "metadata": {},
   "outputs": [
    {
     "name": "stdout",
     "output_type": "stream",
     "text": [
      "2323 in octal = 1,235 in decimal\n"
     ]
    }
   ],
   "source": [
    "# Cell 3 ->converts the octal number 2323 to base 10 (decimal) without looping and displays both numbers\n",
    "\n",
    "# Declare octal as a string\n",
    "octal_num: str = \"2323\"\n",
    "# int function has a second optional parameter\n",
    "# pass in a string, base-> it will do the conversion for you\n",
    "decimal_num: int = int(octal_num, 8)\n",
    "print(f\"{octal_num} in octal = {decimal_num:,} in decimal\")"
   ]
  },
  {
   "cell_type": "code",
   "execution_count": 9,
   "metadata": {},
   "outputs": [
    {
     "name": "stdout",
     "output_type": "stream",
     "text": [
      "1,235 in decimal = 2323 in octal\n"
     ]
    }
   ],
   "source": [
    "# Cell 4 -> converts the decimal number calculated in cell 3 back to octal without looping and displays both numbers\n",
    "\n",
    "decimal_num: int = 1235\n",
    "# in numpy, helper function for base representation\n",
    "# give it a decimal number and what base you want, it will return a string\n",
    "octal_num: str = np.base_repr(decimal_num, base=8)\n",
    "print(f\"{decimal_num:,} in decimal = {octal_num} in octal\")"
   ]
  }
 ],
 "metadata": {
  "kernelspec": {
   "display_name": "Python 3",
   "language": "python",
   "name": "python3"
  },
  "language_info": {
   "codemirror_mode": {
    "name": "ipython",
    "version": 3
   },
   "file_extension": ".py",
   "mimetype": "text/x-python",
   "name": "python",
   "nbconvert_exporter": "python",
   "pygments_lexer": "ipython3",
   "version": "3.9.16"
  },
  "orig_nbformat": 4
 },
 "nbformat": 4,
 "nbformat_minor": 2
}
