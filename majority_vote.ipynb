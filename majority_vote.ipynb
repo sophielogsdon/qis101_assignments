{
 "cells": [
  {
   "cell_type": "code",
   "execution_count": 10,
   "metadata": {},
   "outputs": [
    {
     "data": {
      "text/latex": [
       "$\\displaystyle \\large\\mathbf{F}=0=\\begin{bmatrix}1\\\\[1em]0\\\\\\end{bmatrix}$"
      ],
      "text/plain": [
       "<IPython.core.display.Math object>"
      ]
     },
     "metadata": {},
     "output_type": "display_data"
    },
    {
     "data": {
      "text/latex": [
       "$\\displaystyle \\large\\mathbf{T}=1=\\begin{bmatrix}0\\\\[1em]1\\\\\\end{bmatrix}$"
      ],
      "text/plain": [
       "<IPython.core.display.Math object>"
      ]
     },
     "metadata": {},
     "output_type": "display_data"
    },
    {
     "data": {
      "text/latex": [
       "$\\displaystyle \\large\\mathbf{AND}=\\begin{bmatrix}1 &1 &1 &0\\\\[1em]0 &0 &0 &1\\\\\\end{bmatrix}$"
      ],
      "text/plain": [
       "<IPython.core.display.Math object>"
      ]
     },
     "metadata": {},
     "output_type": "display_data"
    },
    {
     "data": {
      "text/latex": [
       "$\\displaystyle \\large\\mathbf{OR}=\\begin{bmatrix}1 &0 &0 &0\\\\[1em]0 &1 &1 &1\\\\\\end{bmatrix}$"
      ],
      "text/plain": [
       "<IPython.core.display.Math object>"
      ]
     },
     "metadata": {},
     "output_type": "display_data"
    }
   ],
   "source": [
    "\"\"\"majority_vote.ipynb \"\"\"\n",
    "\n",
    "# This code simulates a majority vote circuit and generates its truth table.\n",
    "# Code is modified from that given by Dr. David Biersach in simple_circuit.ipynb.\n",
    "\n",
    "# Cell 1 (set-up)-> declare all the necessary arrays for the Boolean states and logic gates required to simulate all permutations of input and output states.\n",
    "\n",
    "# Allows for type hinting\n",
    "from __future__ import annotations\n",
    "\n",
    "# Type hinting\n",
    "import typing\n",
    "\n",
    "# Used for calculations\n",
    "import numpy as np\n",
    "\n",
    "# Latex displays\n",
    "from IPython.core.display import Math\n",
    "from qis101_utils import as_latex\n",
    "\n",
    "if typing.TYPE_CHECKING:\n",
    "    # Type checking for arrays\n",
    "    from numpy.typing import NDArray\n",
    "# Declare F and T as vectors, not single bits -> F=[1 0] T= [0 1]\n",
    "f: NDArray[np.complex_] = np.array([[1], [0]])\n",
    "t: NDArray[np.complex_] = np.array([[0], [1]])\n",
    "# Define the 2 gate types we need based on their matrices -> And, Or\n",
    "g_and: NDArray[np.complex_] = np.array([[1, 1, 1, 0], [0, 0, 0, 1]])\n",
    "g_or: NDArray[np.complex_] = np.array([[1, 0, 0, 0], [0, 1, 1, 1]])\n",
    "# Display the true and false vectors using latex\n",
    "display(as_latex(f, prefix=r\"\\mathbf{F}=0=\"))\n",
    "display(as_latex(t, prefix=r\"\\mathbf{T}=1=\"))\n",
    "# Display the And, Or gate operators using latex\n",
    "display(as_latex(g_and, prefix=r\"\\mathbf{AND}=\"))\n",
    "display(as_latex(g_or, prefix=r\"\\mathbf{OR}=\"))"
   ]
  },
  {
   "cell_type": "code",
   "execution_count": 11,
   "metadata": {},
   "outputs": [],
   "source": [
    "# Cell 2 -> implement the complete classical digital logic circuit using Numpy matrix algebra functions\n",
    "\n",
    "\n",
    "# circuit accepts 3 input values and returns back an array\n",
    "def circuit(\n",
    "    a: NDArray[np.complex_],\n",
    "    b: NDArray[np.complex_],\n",
    "    c: NDArray[np.complex_],\n",
    ") -> NDArray[np.complex_]:\n",
    "    \"\"\"Create variables for every gate in our circuit\"\"\"\n",
    "\n",
    "    # First gate has inputs a and b going through an and gate-> do the dot product of the and gate operator and the tensor of a and b\n",
    "    g1: NDArray[np.complex_] = np.dot(g_and, np.kron(a, b))\n",
    "    # The next gate has b and c going through an and gate-> take the dot product of the and gate operator and the kronecker product of b and c\n",
    "    g2: NDArray[np.complex_] = np.dot(g_and, np.kron(b, c))\n",
    "    # C and a are fed through an and gate-> dot product of the and gate operator and the kronecker product of c and a\n",
    "    g3: NDArray[np.complex_] = np.dot(g_and, np.kron(c, a))\n",
    "    # Outputs of the first two gates are fed through an or gate\n",
    "    g4: NDArray[np.complex_] = np.dot(g_or, np.kron(g1, g2))\n",
    "    # Outputs of g4 and g3 are fed through an or gate\n",
    "    g5: NDArray[np.complex_] = np.dot(g_or, np.kron(g4, g3))\n",
    "    # g5 is the output of the circuit\n",
    "    return g5"
   ]
  },
  {
   "cell_type": "code",
   "execution_count": 12,
   "metadata": {},
   "outputs": [
    {
     "name": "stdout",
     "output_type": "stream",
     "text": [
      "a: [1 0]  b: [1 0]  c: [1 0]  v: [1 0]\n",
      "a: [1 0]  b: [1 0]  c: [0 1]  v: [1 0]\n",
      "a: [1 0]  b: [0 1]  c: [1 0]  v: [1 0]\n",
      "a: [1 0]  b: [0 1]  c: [0 1]  v: [0 1]\n",
      "a: [0 1]  b: [1 0]  c: [1 0]  v: [1 0]\n",
      "a: [0 1]  b: [1 0]  c: [0 1]  v: [0 1]\n",
      "a: [0 1]  b: [0 1]  c: [1 0]  v: [0 1]\n",
      "a: [0 1]  b: [0 1]  c: [0 1]  v: [0 1]\n"
     ]
    }
   ],
   "source": [
    "# Cell 3 -> generate and display the complete truth table for the circuit\n",
    "\n",
    "# Create a truth table for three inputs and show the output\n",
    "\n",
    "# Enumerate through all 8 possible permutations where a,b, and c go between true and false using nested for loops\n",
    "for a in [f, t]:\n",
    "    for b in [f, t]:\n",
    "        for c in [f, t]:\n",
    "            # print the values of a,b,c\n",
    "            # end=-> adds spaces between each column, keeps cursor at the same line before it starts printing again\n",
    "            # Access each item using [row][element]\n",
    "            print(f\"a: [{a[0][0]} {a[1][0]}]\", end=\"  \")\n",
    "            print(f\"b: [{b[0][0]} {b[1][0]}]\", end=\"  \")\n",
    "            print(f\"c: [{c[0][0]} {c[1][0]}]\", end=\"  \")\n",
    "            # Call the circuit function, pass in whatever happens to be the current values of a,b,c\n",
    "            v: NDArray[np.complex_] = circuit(a, b, c)\n",
    "            # Print the output of the circuit as the right most column\n",
    "            # Truth table is not described by a single 0 or 1 bit but rather F=[1 0] T= [0 1]\n",
    "            print(f\"v: [{v[0][0]} {v[1][0]}]\")"
   ]
  }
 ],
 "metadata": {
  "kernelspec": {
   "display_name": "Python 3",
   "language": "python",
   "name": "python3"
  },
  "language_info": {
   "codemirror_mode": {
    "name": "ipython",
    "version": 3
   },
   "file_extension": ".py",
   "mimetype": "text/x-python",
   "name": "python",
   "nbconvert_exporter": "python",
   "pygments_lexer": "ipython3",
   "version": "3.9.16"
  },
  "orig_nbformat": 4
 },
 "nbformat": 4,
 "nbformat_minor": 2
}
